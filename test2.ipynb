import numpy as np
import matplotlib.pyplot as plt
import pandas as pd
import os
import seaborn as sns
from scipy.optimize import curve_fit

def read_file(directory, sample):
    # read fatigue data into a dataframe
    filename = f'{sample}.xlsx'
    file = os.path.join(directory,filename)
        
    # read the header information
    df_master = pd.read_excel(file, sheet_name='MasterCurve', header = 1,
                              usecols=[0,1,2,3,4],
                     names=['Frequency', 'tan(delta)', 'E_stor', 'E_loss',
                            'E_Complex'])
    df_temp = pd.read_excel(file, sheet_name='Temperature Sweep', header = 0,
                            usecols=[0,1,2,3,4,5],
                     names=['Frequency', 'Temp','tan(delta)', 'E_stor', 
                            'E_loss', 'E_Complex'])
    df_master['phi'] = np.rad2deg(np.arctan(df_master['tan(delta)']))

    df_factor = pd.read_excel(file, sheet_name='Shift Factors', 
                              header = 0, usecols=[0,1,2],
                              names=['Shift_temp', 'aT','bT'])
    
    # adjust CEF35 data from MPa to Pa
    if sample == 'CEF35':
        for col in ['E_stor', 'E_loss', 'E_Complex']:
            df_master[col] = 1e6*df_master[col]
            df_temp[col] = 1e6*df_temp[col]
    
    return df_master, df_temp, df_factor


def lnaT(T, B, Tinf):
    # specify 25 as reference temperat
    return -B/(25-Tinf)+B/(T-Tinf)

def Ea(T, B, Tinf, Tref):
    return 8.314*B*(T+273)**2/((T-Tinf)**2)

#%%
plt.close('all')

# make the axes
fig, ax = plt.subplots(1,3, figsize = (12,3), constrained_layout = True)
ax[0].set_xlabel('f$a_{T}$ ($s^{-1}$)')
ax[0].set_ylabel('$|E^{*}|$ (Pa)')
ax[1].set_xlabel('f$a_{T}$ ($s^{-1}$)')
# ax[1].set_ylabel('tan($\delta$)')
ax[1].set_ylabel('$\phi$ (deg.)')
ax[2].set_xlabel('Temperature ($^{\circ}C$)')
ax[2].set_ylabel('aT')

directory = '../data/DMA/'

color = {'CEF35': sns.color_palette("Paired")[1],
         'CEF05': sns.color_palette("Paired")[3]}

vft_guess = [1600, -100] # guess for B, Tinf
bounds=([1000, -150],[5000, -40])  # bounds on B, Tinf

for sample in ['CEF35', 'CEF05']:
    # read the data
    df_master, df_temp,df_factor = read_file(directory, sample)
    
    # obtain the vft parameters
    vft, _ = curve_fit(lnaT, df_factor['Shift_temp'], 
                                   np.log(df_factor['aT']),
                                   p0=vft_guess, 
                                   bounds=bounds)
    ax[0].loglog(df_master['Frequency'], df_master['E_Complex'],'o', 
                 color = color[sample] ,label = sample)
    ax[1].semilogx(df_master['Frequency'], df_master['phi'],'o', 
                 color = color[sample] ,label = sample)
    ax[2].semilogy(df_factor['Shift_temp'], df_factor['aT'],'o', 
                   color = color[sample],
                   label = f'{sample}: B={vft[0]:.0f}K, '+r'$T_\infty=$'+
                   f'{vft[1]:.1f}'+r'$^\circ$C')
    Tfit = np.linspace(df_factor['Shift_temp'].min(), 
                       df_factor['Shift_temp'].max(), 100)
    ax[2].semilogy(Tfit, np.exp(lnaT(Tfit, *vft)), '-',
                   color = color[sample])
    print(f'{sample}: B = {vft[0]:.0f}, Tinf = {vft[1]:.1f}')

# ax[1].set_ylim(bottom = 0.01)
for k in [0,1,2]: ax[k].legend(loc = 'best')

ax[0].set_title('(a)')
ax[1].set_title('(b)')
ax[2].set_title('(c)')

fig.savefig("../figures/VFT2.svg")

#%% add QCM data - doesn'l look like something we want to include in this paper
import sys
sys.path.append('/home/ken/Mydocs/Github/rheoQCM/QCMFuncs')
import QCM_functions as qcm

df = qcm.read_xlsx('../data/QCM/PSA_halfin.xlsx')
df = df.query('temp>50')
soln = qcm.solve_for_props(df, '3_3', drho = np.inf)
check = qcm.check_solution(soln, xunit = 'temp', nplot=[3,5])
check['fig'].show()

# B and Tinf values from CEF35:
B = 2283
Tinf = -123.8

soln['faT'] = 1.5e7*np.exp(lnaT(soln['temp'], B, Tinf))
soln['E'] = 0.003*soln['grho3']
# now add these QCM data to the DMA plot
ax[0].plot(soln['faT'], soln['E'], '-r')

props = qcm.make_prop_axes(plots = ['grho3', 'phi'], xunit = 'temp')
qcm.prop_plots(soln, props)
props['fig'].show()


