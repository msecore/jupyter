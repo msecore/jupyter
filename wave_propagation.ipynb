from sympy import (symbols, exp, lambdify)
import numpy as np
import matplotlib.pyplot as plt
import pandas as pd
import swe

I1, I4 = symbols(['I_1', 'I_4']) # dictionary of invarients
I = [I1, I4]  # strain invariants to consider
lamf = symbols(['lambda_f', 'lambda_t'] ,positive = True)
gamtf, gamft, gamtt = symbols(['gamma_tf', 'gamma_ft', 'gamma_tt'])
G1, G4, J1star, J4star = symbols(['G_1', 'G_4', 'J_1^*', 'J_4^*'], 
                                 positive=True)

# define the strain energy function
W = ((G1*J1star/2)*(exp((I1-3)/J1star)-1)+
     (G4*J4star/2)*(exp((I4-1)/J4star)-1))

# Now determine the moduli for the unstrained material
Ef0, Gft0, Gtf0, Gtt0 = swe.sym_mod0(W, I)

# Stress strain curves for different geometry
swe.sym_deriv2_W_I(W, I)

swe.sym_I1('lamf')
#%%
swe.sym_sigma(W, I, 'gamtt')

#%%
swe.sym_F('gamtt')

#%% np.zeros((10, 3), dtype=sp.Symbol)
A0, nonzero_list = swe.sym_A0(W, I, 'lamf')
# create functions for normalized stress and moduli
# keep in in that Python is zero index, so we need to add 1 to these
# for the paper generally
G_tt = A0[2,1,2,1]
G_tf = A0[2,0,2,0]
G_ft = A0[0,2,0,2]

# might have tf and ft reversed here - still need to figure that out
sigma = swe.calc_sigma('lamf')
funcs = {'G_tt': lambdify([lamf, J1star, J4star, G1, G4], G_tt),
        'G_tf': lambdify([lamf, J1star, J4star, G1, G4], G_tf),
        'G_ft': lambdify([lamf, J1star, J4star, G1, G4], G_ft),
        'stress':lambdify([lamf, J1star, J4star, G1, G4], sigma[0,0])}

# set values of J1star, J4star, G1, G4 for plots
parms = [10, 5, 1, 5]

# now make the plots
plt.close('all')
fig, ax = plt.subplots(1, 3, figsize=(7,3), constrained_layout = True)
lam = np.linspace(1, 2, 100)

#label the axes
for k in [0,1]: ax[k].set_xlabel(r'$\lambda_x$')
ax[2].set_xlabel(r'$\sigma /G$')
ax[0].set_ylabel(r'$\sigma /G$')
for k in [1,2]: ax[k].set_ylabel(r'$G_{\mathrm{inc}}$')

# put the calculated data in a dataframe
df = pd.DataFrame(columns = ['G_tt', 'G_tf', 'G_ft', 'stress'])

for ydata in ['G_tt', 'G_tf', 'G_ft', 'stress']:
    df[ydata] = funcs[ydata](lam, *parms)

fig.show()
# fig.savefig('../figures/strain_hardening_plots.svg')

        





