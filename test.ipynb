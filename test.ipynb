#!/usr/bin/env python3
# -*- coding: utf-8 -*-
"""
Created on Mon Apr 17 12:32:55 2023

@author: ken
"""

print('hello world')
